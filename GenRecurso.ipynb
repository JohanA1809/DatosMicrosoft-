{
  "nbformat": 4,
  "nbformat_minor": 0,
  "metadata": {
    "colab": {
      "provenance": [],
      "history_visible": true,
      "authorship_tag": "ABX9TyMykZiVcW13Cqfr6mu1dZRG",
      "include_colab_link": true
    },
    "kernelspec": {
      "name": "python3",
      "display_name": "Python 3"
    },
    "language_info": {
      "name": "python"
    }
  },
  "cells": [
    {
      "cell_type": "markdown",
      "metadata": {
        "id": "view-in-github",
        "colab_type": "text"
      },
      "source": [
        "<a href=\"https://colab.research.google.com/github/JohanA1809/DatosMicrosoft-/blob/main/GenRecurso.ipynb\" target=\"_parent\"><img src=\"https://colab.research.google.com/assets/colab-badge.svg\" alt=\"Open In Colab\"/></a>"
      ]
    },
    {
      "cell_type": "code",
      "execution_count": null,
      "metadata": {
        "colab": {
          "base_uri": "https://localhost:8080/"
        },
        "id": "NckVRzXmANo3",
        "outputId": "99d608f5-eb70-4cd0-f360-f803a9e75c25"
      },
      "outputs": [
        {
          "output_type": "stream",
          "name": "stdout",
          "text": [
            "Requirement already satisfied: pydataxm in /usr/local/lib/python3.10/dist-packages (0.3.2)\n",
            "Requirement already satisfied: requests in /usr/local/lib/python3.10/dist-packages (from pydataxm) (2.27.1)\n",
            "Requirement already satisfied: pandas in /usr/local/lib/python3.10/dist-packages (from pydataxm) (1.5.3)\n",
            "Requirement already satisfied: datetime in /usr/local/lib/python3.10/dist-packages (from pydataxm) (5.2)\n",
            "Requirement already satisfied: zope.interface in /usr/local/lib/python3.10/dist-packages (from datetime->pydataxm) (6.0)\n",
            "Requirement already satisfied: pytz in /usr/local/lib/python3.10/dist-packages (from datetime->pydataxm) (2022.7.1)\n",
            "Requirement already satisfied: python-dateutil>=2.8.1 in /usr/local/lib/python3.10/dist-packages (from pandas->pydataxm) (2.8.2)\n",
            "Requirement already satisfied: numpy>=1.21.0 in /usr/local/lib/python3.10/dist-packages (from pandas->pydataxm) (1.22.4)\n",
            "Requirement already satisfied: urllib3<1.27,>=1.21.1 in /usr/local/lib/python3.10/dist-packages (from requests->pydataxm) (1.26.16)\n",
            "Requirement already satisfied: certifi>=2017.4.17 in /usr/local/lib/python3.10/dist-packages (from requests->pydataxm) (2023.7.22)\n",
            "Requirement already satisfied: charset-normalizer~=2.0.0 in /usr/local/lib/python3.10/dist-packages (from requests->pydataxm) (2.0.12)\n",
            "Requirement already satisfied: idna<4,>=2.5 in /usr/local/lib/python3.10/dist-packages (from requests->pydataxm) (3.4)\n",
            "Requirement already satisfied: six>=1.5 in /usr/local/lib/python3.10/dist-packages (from python-dateutil>=2.8.1->pandas->pydataxm) (1.16.0)\n",
            "Requirement already satisfied: setuptools in /usr/local/lib/python3.10/dist-packages (from zope.interface->datetime->pydataxm) (67.7.2)\n",
            "Requirement already satisfied: requests in /usr/local/lib/python3.10/dist-packages (2.27.1)\n",
            "Requirement already satisfied: urllib3<1.27,>=1.21.1 in /usr/local/lib/python3.10/dist-packages (from requests) (1.26.16)\n",
            "Requirement already satisfied: certifi>=2017.4.17 in /usr/local/lib/python3.10/dist-packages (from requests) (2023.7.22)\n",
            "Requirement already satisfied: charset-normalizer~=2.0.0 in /usr/local/lib/python3.10/dist-packages (from requests) (2.0.12)\n",
            "Requirement already satisfied: idna<4,>=2.5 in /usr/local/lib/python3.10/dist-packages (from requests) (3.4)\n"
          ]
        },
        {
          "output_type": "stream",
          "name": "stderr",
          "text": [
            "/usr/local/lib/python3.10/dist-packages/pydataxm/pydataxm.py:116: FutureWarning: The frame.append method is deprecated and will be removed from pandas in a future version. Use pandas.concat instead.\n",
            "  data = data.append(temporal_data, ignore_index=True)\n",
            "/usr/local/lib/python3.10/dist-packages/pydataxm/pydataxm.py:116: FutureWarning: The frame.append method is deprecated and will be removed from pandas in a future version. Use pandas.concat instead.\n",
            "  data = data.append(temporal_data, ignore_index=True)\n",
            "/usr/local/lib/python3.10/dist-packages/pydataxm/pydataxm.py:116: FutureWarning: The frame.append method is deprecated and will be removed from pandas in a future version. Use pandas.concat instead.\n",
            "  data = data.append(temporal_data, ignore_index=True)\n",
            "/usr/local/lib/python3.10/dist-packages/pydataxm/pydataxm.py:116: FutureWarning: The frame.append method is deprecated and will be removed from pandas in a future version. Use pandas.concat instead.\n",
            "  data = data.append(temporal_data, ignore_index=True)\n"
          ]
        }
      ],
      "source": [
        "# Sector eléctrico en Colombia\n",
        "# Generación por recurso\n",
        "\n",
        "!pip install pydataxm\n",
        "!pip install requests\n",
        "\n",
        "import requests\n",
        "from pydataxm import *                           #Se realiza la importación de las librerias necesarias para ejecutar\n",
        "import datetime as dt\n",
        "import pandas as pd\n",
        "import matplotlib as mpl\n",
        "import matplotlib.dates as mdates\n",
        "\n",
        "import matplotlib.pyplot as plt\n",
        "\n",
        "from pydataxm.pydataxm import ReadDB as apiXM    #Se importa la clase que invoca el servicio\n",
        "objetoAPI = pydataxm.ReadDB()  # Se asigna un objeto que pueda realizar el consumo de la data en la API\n",
        "df =objetoAPI.get_collections()\n",
        "df=objetoAPI.get_collections(\"Gene\")\n",
        "df=objetoAPI.get_collections(\"ListadoRecursos\")\n",
        "df_variable = objetoAPI.request_data(\n",
        "\"Gene\",\n",
        "\"Recurso\",\n",
        "dt.date(2022, 1, 1),\n",
        "dt.date(2022, 6, 30))\n",
        "df_g = df_variable.copy()\n",
        "df_g = df_g.fillna(0)\n",
        "df_g['GWh'] = df_g.sum(axis=1, numeric_only=True).div(10**6)\n",
        "df_r = objetoAPI.request_data(\n",
        "\"ListadoRecursos\",\n",
        "\"Sistema\",\n",
        "dt.date(2022, 1, 1),\n",
        "dt.date(2022, 6, 30))\n",
        "\n",
        "df_gr = df_g.merge(df_r, left_on='Values_code', right_on='Values_Code')\n",
        "\n",
        "df_grt = df_gr.copy()\n",
        "df_grt = df_grt[df_grt['Values_Type']=='TERMICA']\n",
        "df_grt = df_grt.groupby(['Date_x']).sum()\n",
        "df_grh = df_gr.copy()\n",
        "df_grh = df_grh[df_grh['Values_Type']=='HIDRAULICA']\n",
        "df_grh = df_grh.groupby(['Date_x']).sum()\n",
        "\n",
        "df_graph = pd.DataFrame()\n",
        "df_graph['Térmica GWh'] = df_grt['GWh']\n",
        "df_graph['Hidráulica GWh'] = df_grh['GWh']\n",
        "df_graph\n",
        "\n",
        "df_line = df_graph.copy()\n",
        "df_line = df_line.reset_index()\n",
        "fig, ax1 = plt.subplots()\n",
        "ax2 = ax1.twinx()\n",
        "\n",
        "# Graficar las dos líneas en los ejes respectivos\n",
        "ax1.plot(df_line['Date_x'], df_line['Térmica GWh'], color='r', label='Térmica GWh')\n",
        "ax2.plot(df_line['Date_x'], df_line['Hidráulica GWh'], color='b', label='Hidráulica GWh')\n",
        "\n",
        "# Personalizar las leyendas y los ejes\n",
        "ax1.set_xlabel('Día')\n",
        "ax1.set_ylabel('Térmica GWh', color='r')\n",
        "ax2.set_ylabel('Hidráulica GWh', color='b')\n",
        "\n",
        "# Agregar título y leyendas\n",
        "plt.title('Generación eléctrica - serie de tiempo\\nColombia\\nEnero a Junio 2022')\n",
        "ax1.legend(loc='upper left')\n",
        "ax2.legend(loc='upper right')\n",
        "\n",
        "plt.show()\n"
      ]
    }
  ]
}